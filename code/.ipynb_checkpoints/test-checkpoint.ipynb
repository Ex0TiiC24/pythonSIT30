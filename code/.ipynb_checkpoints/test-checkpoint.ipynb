{
 "cells": [
  {
   "cell_type": "code",
   "id": "initial_id",
   "metadata": {
    "collapsed": true,
    "ExecuteTime": {
     "end_time": "2024-11-11T10:17:40.495669Z",
     "start_time": "2024-11-11T10:17:40.492379Z"
    }
   },
   "source": [
    "print('Helloworld!')\n",
    "x = 1"
   ],
   "outputs": [
    {
     "name": "stdout",
     "output_type": "stream",
     "text": [
      "Helloworld!\n"
     ]
    }
   ],
   "execution_count": 33
  },
  {
   "metadata": {
    "ExecuteTime": {
     "end_time": "2024-11-11T10:17:46.257247Z",
     "start_time": "2024-11-11T10:17:46.252385Z"
    }
   },
   "cell_type": "code",
   "source": "x +=1 ",
   "id": "29c4866a30de14f1",
   "outputs": [],
   "execution_count": 38
  },
  {
   "metadata": {
    "ExecuteTime": {
     "end_time": "2024-11-11T10:17:47.212657Z",
     "start_time": "2024-11-11T10:17:47.209009Z"
    }
   },
   "cell_type": "code",
   "source": "print(x,\"helloworld\")",
   "id": "57ba30bd244e1393",
   "outputs": [
    {
     "name": "stdout",
     "output_type": "stream",
     "text": [
      "2 helloworld\n"
     ]
    }
   ],
   "execution_count": 39
  }
 ],
 "metadata": {
  "kernelspec": {
   "display_name": "Python 3",
   "language": "python",
   "name": "python3"
  },
  "language_info": {
   "codemirror_mode": {
    "name": "ipython",
    "version": 2
   },
   "file_extension": ".py",
   "mimetype": "text/x-python",
   "name": "python",
   "nbconvert_exporter": "python",
   "pygments_lexer": "ipython2",
   "version": "2.7.6"
  }
 },
 "nbformat": 4,
 "nbformat_minor": 5
}
